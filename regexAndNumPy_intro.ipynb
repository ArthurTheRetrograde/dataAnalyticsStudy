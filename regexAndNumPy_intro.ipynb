{
  "nbformat": 4,
  "nbformat_minor": 0,
  "metadata": {
    "colab": {
      "name": "regexAndNumPy_intro.ipynb",
      "provenance": [],
      "collapsed_sections": []
    },
    "kernelspec": {
      "name": "python3",
      "display_name": "Python 3"
    },
    "language_info": {
      "name": "python"
    }
  },
  "cells": [
    {
      "cell_type": "code",
      "execution_count": null,
      "metadata": {
        "id": "qBugzGbyczmw"
      },
      "outputs": [],
      "source": [
        "import re"
      ]
    },
    {
      "cell_type": "markdown",
      "source": [
        "**Regex**, or regular expression, is a sequence of characters *that forms a search pattern*. It could be used to check strings that contains the specified search pattern.]\n",
        "\n",
        "1. **findall** - returns a list containing all matches (txt, var)\n",
        "1. **search** - returns a match object if ever there's a match (txt, var)\n",
        "1. **split** - returns a list where the string has been split at each match (txt, var, #occuranceToSplit)\n",
        "1. **sub** replaces one or many matches with a string (txt, sub, var)\n",
        "\n",
        "**Match Object** is the object containing information about the search and the result.\n",
        "\n",
        "1. **.span()** returns a tuple containing the start- and end positions of the match\n",
        "1. **.string** returns the string into the function\n",
        "1. **.group()** returns the part of the string where there was a match"
      ],
      "metadata": {
        "id": "ENt3h34adYr_"
      }
    },
    {
      "cell_type": "code",
      "source": [
        "oranges = \"The orange fruit fell from an orange tree to an orange sidewalk\"\n",
        "searchedA = re.search(\"orange\", oranges)\n",
        "print(searchedA)"
      ],
      "metadata": {
        "colab": {
          "base_uri": "https://localhost:8080/"
        },
        "id": "BidFGwZheAiB",
        "outputId": "f31f5b64-4659-4f52-9937-8aa0725bd42a"
      },
      "execution_count": null,
      "outputs": [
        {
          "output_type": "stream",
          "name": "stdout",
          "text": [
            "<re.Match object; span=(4, 10), match='orange'>\n"
          ]
        }
      ]
    },
    {
      "cell_type": "markdown",
      "source": [
        "**METACHARACTERS**\n",
        "1. []    set of characters, \"a-m\" or a to m\n",
        "1. \\     special sequence\n",
        "1. .     any character except new line\n",
        "1. ^     starts with\n",
        "1. $     ends with\n",
        "1. \\*     zero or more occurances\n",
        "1. \\+     one or more occurrences\n",
        "1. ?     zero or one occurances\n",
        "1. {}    exactly the specified number of occurences\n",
        "1. |     either or\n",
        "1. ()    capture and group"
      ],
      "metadata": {
        "id": "5YMimqjjgL6S"
      }
    },
    {
      "cell_type": "code",
      "source": [
        "bus = \"The yellow bus is warm inside\"\n",
        "searchedB = re.search(\"y.l..w\", bus)\n",
        "print(searchedB.string)"
      ],
      "metadata": {
        "colab": {
          "base_uri": "https://localhost:8080/"
        },
        "id": "0uVrFlZ_iS70",
        "outputId": "19205a42-fc6f-4215-8df5-fdebb68f24aa"
      },
      "execution_count": null,
      "outputs": [
        {
          "output_type": "stream",
          "name": "stdout",
          "text": [
            "The yellow bus is warm inside\n"
          ]
        }
      ]
    },
    {
      "cell_type": "markdown",
      "source": [
        "**SPECIAL SEQUENCES** have a special meaning that could be added in the search.\n",
        "\n",
        "1. **\\A**    returns a match if the specified characters are at the *beggining of the string* (\"\\AThe\")\n",
        "1. **\\b**    returns a match where the specified characters are at the *beggining or at the end of a word*\n",
        " (r\"ain\\b\")\n",
        "1. **\\d**    returns a match where the string contains digit\n",
        "1. **\\D**    returns a match where the string DOES NOT contains digit\n",
        "1. **\\s** returns a match where the string contains a whitespace character\n",
        "1. **\\S** returns a match where the string DOES NOT contain a white space character\n",
        "1. **\\w** returns a match where the string contains any word charcters\n",
        "1. **\\W** returns a match where the string DOES NOT contain any word characters\n",
        "1. **\\Z** returnsa match if the specified characters are at the end of the string\n",
        "\n",
        "NOTE: search has to be in a set next to each other"
      ],
      "metadata": {
        "id": "VO2thB4smSxw"
      }
    },
    {
      "cell_type": "markdown",
      "source": [
        "THIS IS A **VERRRYYYY USEFUL** piece of code to use to access files in google drive\n",
        "```\n",
        "from google.colab import drive\n",
        "drive.mount('/content/gdrive')\n",
        "gdrive_path = '/content/gdrive/My Drive/learningDataScience/'\n",
        "with open(f'{gdrive_path}SCENE3ACT1_theMerchantOfVenice.txt', 'r') as file:\n",
        "  for line in file:\n",
        "    print(line)\n",
        "```\n",
        "\n"
      ],
      "metadata": {
        "id": "YyHYIzbXk8cx"
      }
    },
    {
      "cell_type": "markdown",
      "source": [
        "Line by line matching using counters\n",
        "\n",
        "\n",
        "```\n",
        "matches = []\n",
        "offset = 0\n",
        "reg = re.compile(\"(<(\\d{4,5})>)?\")\n",
        "for line in txtExcerpt:\n",
        "    matches += [(reg.findall(line),offset)]\n",
        "    offset += len(line)\n",
        "txtExcerpt.close()\n",
        "```\n",
        "\n"
      ],
      "metadata": {
        "id": "Uj0KQay6zjJH"
      }
    },
    {
      "cell_type": "markdown",
      "source": [
        "Reading the whole file by batch\n",
        "\n",
        "\n",
        "```\n",
        "import re\n",
        "\n",
        "textfile = open(filename, 'r')\n",
        "filetext = textfile.read()\n",
        "textfile.close()\n",
        "matches = re.findall(\"(<(\\d{4,5})>)?\", filetext)\n",
        "```\n",
        "\n"
      ],
      "metadata": {
        "id": "fEabivtFzs_m"
      }
    },
    {
      "cell_type": "markdown",
      "source": [
        "Aggregate lines depends on the match by RegEx\n",
        "\n",
        "\n",
        "```\n",
        "def groupLinesByMatch(filename,regex):\n",
        "    import re\n",
        "    from collections import defaultdict\n",
        "\n",
        "    regex = re.compile(regex)\n",
        "    result = defaultdict(list)\n",
        "\n",
        "    for line in open(filename).readlines():\n",
        "        matches = regex.match(line)\n",
        "        if matches:    \n",
        "            result[matches.group(1)].append( line )\n",
        "\n",
        "    return result.values()\n",
        "\n",
        "\n",
        "for lines in groupLinesByMatch(filename, regex):\n",
        "    for line in lines:\n",
        "        print line,\n",
        "    print\n",
        "```\n",
        "\n"
      ],
      "metadata": {
        "id": "3sqXU1tk5MMa"
      }
    },
    {
      "cell_type": "markdown",
      "source": [
        "**PROJECT #1** : Shakespeare's Predicament [google colab link](https://colab.research.google.com/drive/1vJjWOmkU2kMUR-08P-IE7K8-Dbq4aQ30#scrollTo=JXKYRd27tzX1)"
      ],
      "metadata": {
        "id": "m628wzEnvW7j"
      }
    },
    {
      "cell_type": "markdown",
      "source": [
        "**PROJECT #2** : Jupyter Wordle! (UNFINISHED) [google colab link](https://colab.research.google.com/drive/1lD1X-nrA2ivjJmwPes4tbhoY4pdV1Xq8)"
      ],
      "metadata": {
        "id": "uH7hb5PANV1O"
      }
    },
    {
      "cell_type": "markdown",
      "source": [
        "\n",
        "\n",
        "---\n",
        "\n",
        "\n",
        "**NumPy** stands for \"Numerical Python\" used for working with arrays. There are lists in pythons, but they tend to be slower. NumPy on the other hand, can offer up to 50x faster speeds than traditional Python lists. This is because most of the computation parts of NuPy is written in \"fast languages\" liks C or  C++.\n",
        "\n",
        "\n",
        "Every array object in NumPy is called an **ndarray**. ndarrays are storedat one continous place in memory, so unlike lists, the processes can access and maipulate them very efficiently. \n",
        "\n",
        "[This](https://github.com/numpy/numpy) is the github repository of NumPy."
      ],
      "metadata": {
        "id": "sleA_tACNtUd"
      }
    },
    {
      "cell_type": "markdown",
      "source": [
        "Locally downloading numpy requires\n",
        "\n",
        "\n",
        "\n",
        "```\n",
        "pip install numpy\n",
        "```\n",
        "\n",
        "in the command line.\n",
        "\n",
        "However, NumPy is already downloaded in tools such as Google Colab. NumPy is usually imported as \"np\". The version of NumPy are stored in a \n",
        "```\n",
        "np.__version__\n",
        "```\n",
        "attribute.\n"
      ],
      "metadata": {
        "id": "MP5On6xAptV6"
      }
    },
    {
      "cell_type": "code",
      "source": [
        "import numpy as np"
      ],
      "metadata": {
        "id": "KcYyh6kyp-0q"
      },
      "execution_count": 2,
      "outputs": []
    },
    {
      "cell_type": "markdown",
      "source": [
        "NumPy array objects are called \"ndarray\", and objects could be created using the **array()** function. Lists, tuples or any array-like object can be used for the array() method. **type()** is a useful function that tells us the type of the object passed to the array.\n",
        "\n",
        "\n"
      ],
      "metadata": {
        "id": "W2RsFYfVqbTc"
      }
    },
    {
      "cell_type": "code",
      "source": [
        "arr = np.array([1,2,3,4])\n",
        "print(arr)\n",
        "print(type(arr))"
      ],
      "metadata": {
        "colab": {
          "base_uri": "https://localhost:8080/"
        },
        "id": "fsIlsEpsqma-",
        "outputId": "a83c9c36-7efb-4dab-d06a-1dab7a4833e2"
      },
      "execution_count": null,
      "outputs": [
        {
          "output_type": "stream",
          "name": "stdout",
          "text": [
            "[1 2 3 4]\n",
            "<class 'numpy.ndarray'>\n"
          ]
        }
      ]
    },
    {
      "cell_type": "markdown",
      "source": [
        "**Array Dimension** refers to the level of array depth. In other words, it refers to how nested the arrays are. The more nested the arrays are, the higher is it's dimension. **Nested arrays** are arrays that has arrays as their elements too. "
      ],
      "metadata": {
        "id": "MrniU68rMW1a"
      }
    },
    {
      "cell_type": "markdown",
      "source": [
        "**Scalars**, or 0-D arrays are elements in an array. Each value in an array is an 0-D array. "
      ],
      "metadata": {
        "id": "-aamv5VfM0sI"
      }
    },
    {
      "cell_type": "code",
      "source": [
        "a = np.array(23)\n",
        "print(a)"
      ],
      "metadata": {
        "colab": {
          "base_uri": "https://localhost:8080/"
        },
        "id": "6EIekBtJNIz7",
        "outputId": "1c8fa5e4-a5ce-487c-e3f7-bf6321838e4a"
      },
      "execution_count": null,
      "outputs": [
        {
          "output_type": "stream",
          "name": "stdout",
          "text": [
            "23\n"
          ]
        }
      ]
    },
    {
      "cell_type": "markdown",
      "source": [
        "**1-D arrays** are array containing 0-D arrays. It is also called a \"uni-dimentional array\""
      ],
      "metadata": {
        "id": "zzPwUN4ANXSo"
      }
    },
    {
      "cell_type": "code",
      "source": [
        "b = np.array([1,2,3,4,5])\n",
        "print(b)"
      ],
      "metadata": {
        "colab": {
          "base_uri": "https://localhost:8080/"
        },
        "id": "0fsam16lNqGC",
        "outputId": "1fd5e630-a4d4-44bd-d12e-ae50d5cc95e3"
      },
      "execution_count": null,
      "outputs": [
        {
          "output_type": "stream",
          "name": "stdout",
          "text": [
            "[1 2 3 4 5]\n"
          ]
        }
      ]
    },
    {
      "cell_type": "markdown",
      "source": [
        "**2-D arrays** re arrays containing 1-D arrays as its elements. There are often used to represent **matrix** or 2nd order tensors. NumPy matrix operations can be done by NumPy's own submodule called numpy.mat"
      ],
      "metadata": {
        "id": "Iw9DU0RYNpsy"
      }
    },
    {
      "cell_type": "code",
      "source": [
        "c = np.array([[1,2,3],[4,5,6]])\n",
        "print(c)"
      ],
      "metadata": {
        "colab": {
          "base_uri": "https://localhost:8080/"
        },
        "id": "r0Ad3q2HOUHi",
        "outputId": "2a9ec5f5-3387-40f3-8ff1-131e51cd1c29"
      },
      "execution_count": null,
      "outputs": [
        {
          "output_type": "stream",
          "name": "stdout",
          "text": [
            "[[1 2 3]\n",
            " [4 5 6]]\n"
          ]
        }
      ]
    },
    {
      "cell_type": "markdown",
      "source": [
        "Higher order tensors can be created by deeply nesting more arrays onto each others. NumPy's **ndim** attribute returns an integer that tells us how many dimensions the array have. "
      ],
      "metadata": {
        "id": "TQsvXzqAOTxZ"
      }
    },
    {
      "cell_type": "code",
      "source": [
        "print(a.ndim)\n",
        "print(b.ndim)\n",
        "print(c.ndim)"
      ],
      "metadata": {
        "colab": {
          "base_uri": "https://localhost:8080/"
        },
        "id": "Nm94ureWO5V5",
        "outputId": "18689f8c-b37b-4e84-804a-69b8b608a31b"
      },
      "execution_count": null,
      "outputs": [
        {
          "output_type": "stream",
          "name": "stdout",
          "text": [
            "0\n",
            "1\n",
            "2\n"
          ]
        }
      ]
    },
    {
      "cell_type": "markdown",
      "source": [
        "When an array is created the number of dimensions can also be defined by using the **ndmin** argument."
      ],
      "metadata": {
        "id": "JSDKylnQO_va"
      }
    },
    {
      "cell_type": "code",
      "source": [
        "d = np.array([1,2,3,4,5], ndmin=5)\n",
        "print(d)\n",
        "print('number of dimensions: ', d.ndim)"
      ],
      "metadata": {
        "colab": {
          "base_uri": "https://localhost:8080/"
        },
        "id": "LsqPmc-vPPeo",
        "outputId": "46f0a497-3f7d-4bd4-c83d-51fbe24bb68a"
      },
      "execution_count": null,
      "outputs": [
        {
          "output_type": "stream",
          "name": "stdout",
          "text": [
            "[[[[[1 2 3 4 5]]]]]\n",
            "number of dimensions:  5\n"
          ]
        }
      ]
    },
    {
      "cell_type": "markdown",
      "source": [
        "Accessing the arrays in NumPy is similar to what's done in python itself. For high dimention arrays, the access order is from the highest dimention into the lowest dimention."
      ],
      "metadata": {
        "id": "y4ZfRMjIPxOb"
      }
    },
    {
      "cell_type": "code",
      "source": [
        "e = np.array([[1,2,3],[4,5,6]])\n",
        "print(e[0,1]) "
      ],
      "metadata": {
        "colab": {
          "base_uri": "https://localhost:8080/"
        },
        "id": "xAjMZREIQUXY",
        "outputId": "60f6e576-5899-4651-968c-9a52d16a2dc8"
      },
      "execution_count": null,
      "outputs": [
        {
          "output_type": "stream",
          "name": "stdout",
          "text": [
            "2\n"
          ]
        }
      ]
    },
    {
      "cell_type": "code",
      "source": [
        "f = np.array([[[1, 2, 3], [4, 5, 6]], [[7, 8, 9], [10, 11, 12]]])\n",
        "print(f[0,1,2])"
      ],
      "metadata": {
        "colab": {
          "base_uri": "https://localhost:8080/"
        },
        "id": "r2rELAJHQf-w",
        "outputId": "19fff2b2-8429-4b55-feaf-2800dc956dab"
      },
      "execution_count": null,
      "outputs": [
        {
          "output_type": "stream",
          "name": "stdout",
          "text": [
            "6\n"
          ]
        }
      ]
    },
    {
      "cell_type": "markdown",
      "source": [
        "Negative indexes could also be used to access an array from the end."
      ],
      "metadata": {
        "id": "uIL-slgyQzXd"
      }
    },
    {
      "cell_type": "code",
      "source": [
        "g = np.array([[1,2,3,4,5], [6,7,8,9,10]])\n",
        "print(g[0,-1])"
      ],
      "metadata": {
        "colab": {
          "base_uri": "https://localhost:8080/"
        },
        "id": "K_UAyFGdQ78_",
        "outputId": "9e0f1ff2-37a1-44b4-a255-603f1cb91be4"
      },
      "execution_count": null,
      "outputs": [
        {
          "output_type": "stream",
          "name": "stdout",
          "text": [
            "5\n"
          ]
        }
      ]
    },
    {
      "cell_type": "markdown",
      "source": [
        "**Slicing** in python means taking elements from one given index to another given index.\n",
        "\n",
        "The slice can be passed like **[start:end]**\n",
        "\n",
        "Steps (the number of elements to skip) can also be defined like **start:end:step**\n",
        "\n",
        "If parameters are not passed, such as:\n",
        "1. start is not passed, it is assumed as 0\n",
        "1. if the end is not passed, the length of the array in that dimention is passed\n",
        "1. if the step is not passed, then the step is considered as 1\n",
        "\n",
        "The result includes the start index, but excludes the end index."
      ],
      "metadata": {
        "id": "h98UqLKVutcv"
      }
    },
    {
      "cell_type": "code",
      "source": [
        "h = np.array([1,2,3,4,5,6,7])\n",
        "print(h[1:3])"
      ],
      "metadata": {
        "colab": {
          "base_uri": "https://localhost:8080/"
        },
        "id": "a3ISBLAwvpAb",
        "outputId": "cbe2be25-de61-44ee-dc9f-1662ae4f71d7"
      },
      "execution_count": null,
      "outputs": [
        {
          "output_type": "stream",
          "name": "stdout",
          "text": [
            "[2 3]\n"
          ]
        }
      ]
    },
    {
      "cell_type": "code",
      "source": [
        "i = np.array([1,2,3,4,5,6,7])\n",
        "print(i[:4])"
      ],
      "metadata": {
        "colab": {
          "base_uri": "https://localhost:8080/"
        },
        "id": "rK-lU_hxwIH6",
        "outputId": "85c24b80-d9cb-4744-9313-4faa73dc61cb"
      },
      "execution_count": null,
      "outputs": [
        {
          "output_type": "stream",
          "name": "stdout",
          "text": [
            "[1 2 3 4]\n"
          ]
        }
      ]
    },
    {
      "cell_type": "code",
      "source": [
        "j = np.array([1,2,3,4,5,6,7])\n",
        "print(j[2:])"
      ],
      "metadata": {
        "colab": {
          "base_uri": "https://localhost:8080/"
        },
        "id": "sa6UGBLOwZjA",
        "outputId": "a835dcd7-b98a-4afb-c51f-537cc489015f"
      },
      "execution_count": null,
      "outputs": [
        {
          "output_type": "stream",
          "name": "stdout",
          "text": [
            "[3 4 5 6 7]\n"
          ]
        }
      ]
    },
    {
      "cell_type": "code",
      "source": [
        "k = np.array([1,2,3,4,5,6,7])\n",
        "print(k[::2])"
      ],
      "metadata": {
        "colab": {
          "base_uri": "https://localhost:8080/"
        },
        "id": "vZzZWy2fw6Dd",
        "outputId": "9b99dd57-72c5-4ccb-feae-e5f8d1d68a8b"
      },
      "execution_count": null,
      "outputs": [
        {
          "output_type": "stream",
          "name": "stdout",
          "text": [
            "[1 3 5 7]\n"
          ]
        }
      ]
    },
    {
      "cell_type": "markdown",
      "source": [
        "Negative slicing can also be done in the same way that negative indexes can be done."
      ],
      "metadata": {
        "id": "LTd9VKCDwnPc"
      }
    },
    {
      "cell_type": "code",
      "source": [
        "l = np.array([1,2,3,4,5,6,7])\n",
        "print(l[-3:-1])"
      ],
      "metadata": {
        "colab": {
          "base_uri": "https://localhost:8080/"
        },
        "id": "d65ljOE8wsgG",
        "outputId": "e7e5b26e-a165-4c7b-bc01-7edade9580ce"
      },
      "execution_count": null,
      "outputs": [
        {
          "output_type": "stream",
          "name": "stdout",
          "text": [
            "[5 6]\n"
          ]
        }
      ]
    },
    {
      "cell_type": "markdown",
      "source": [
        "Indexes from higher dimensions can also be sliced, just by referencing the elements wanted to be sliced like it was an index in that said higher dimension."
      ],
      "metadata": {
        "id": "26I2lElSxGtJ"
      }
    },
    {
      "cell_type": "code",
      "source": [
        "m = np.array([[1,2,3,4,5],[6,7,8,9,10]])\n",
        "print(m[1,1:4])"
      ],
      "metadata": {
        "colab": {
          "base_uri": "https://localhost:8080/"
        },
        "id": "yWogBlf2xTZH",
        "outputId": "f0943157-9a74-4d37-96ec-a4d89cb13aae"
      },
      "execution_count": null,
      "outputs": [
        {
          "output_type": "stream",
          "name": "stdout",
          "text": [
            "[7 8 9]\n"
          ]
        }
      ]
    },
    {
      "cell_type": "code",
      "source": [
        "n = np.array([[1,2,3,4,5],[6,7,8,9,10]])\n",
        "print(n[0:2, 2])"
      ],
      "metadata": {
        "colab": {
          "base_uri": "https://localhost:8080/"
        },
        "id": "IExEMisBxleV",
        "outputId": "fe30d324-f8ea-48de-e1a9-39e121dc3bff"
      },
      "execution_count": null,
      "outputs": [
        {
          "output_type": "stream",
          "name": "stdout",
          "text": [
            "[3 8]\n"
          ]
        }
      ]
    },
    {
      "cell_type": "markdown",
      "source": [
        "These are the characters used to represent all data types in NumPy!\n",
        "1. i - integer\n",
        "1. b - boolean\n",
        "1. u - unsigned integer (non-negative integer)\n",
        "1. f - float\n",
        "1. c - complex float \n",
        "1. m - timedelta, subclass of date time, is usually the difference of dates and time\n",
        "1. M - datetime, represents the date and time\n",
        "1. O - object\n",
        "1. S - string\n",
        "1. U - unicode string\n",
        "1. V - fixed chunk of memory for other type (void)\n",
        "\n",
        "The data type of a NumPy array object can be checked by the **dtype** property."
      ],
      "metadata": {
        "id": "BQygu8HMygNl"
      }
    },
    {
      "cell_type": "code",
      "source": [
        "o = np.array([1,2,3,4])\n",
        "print(o.dtype)"
      ],
      "metadata": {
        "colab": {
          "base_uri": "https://localhost:8080/"
        },
        "id": "-upssODwy5sf",
        "outputId": "cc4942bf-0059-439d-ba3b-8d13541f7eb1"
      },
      "execution_count": null,
      "outputs": [
        {
          "output_type": "stream",
          "name": "stdout",
          "text": [
            "int64\n"
          ]
        }
      ]
    },
    {
      "cell_type": "code",
      "source": [
        "p = np.array([\"oranges\",\"apples\",\"kiwis\",\"melons\"])\n",
        "print(p.dtype)"
      ],
      "metadata": {
        "colab": {
          "base_uri": "https://localhost:8080/"
        },
        "id": "Cyc7a8MT13bz",
        "outputId": "58b8894b-2bed-4e6b-965d-e6db38c6c223"
      },
      "execution_count": null,
      "outputs": [
        {
          "output_type": "stream",
          "name": "stdout",
          "text": [
            "<U7\n"
          ]
        }
      ]
    },
    {
      "cell_type": "markdown",
      "source": [
        "The array() function can take an optional **dtype** argument. This allows us to define the expected data type f the array elements. "
      ],
      "metadata": {
        "id": "D20fA98E2GHJ"
      }
    },
    {
      "cell_type": "code",
      "source": [
        "q = np.array([1,2,3,4,5], dtype='S')\n",
        "print(q)\n",
        "print(q.dtype)"
      ],
      "metadata": {
        "colab": {
          "base_uri": "https://localhost:8080/"
        },
        "id": "PSVs133T2TGa",
        "outputId": "2e0806c2-61f5-44a3-ac62-64b836d8523f"
      },
      "execution_count": null,
      "outputs": [
        {
          "output_type": "stream",
          "name": "stdout",
          "text": [
            "[b'1' b'2' b'3' b'4' b'5']\n",
            "|S1\n"
          ]
        }
      ]
    },
    {
      "cell_type": "markdown",
      "source": [
        "On certain data types such as i, u, f, S and U, size can be defined as well. For example, let's create a integer data type with 4 bytes as size."
      ],
      "metadata": {
        "id": "gw4V-_A72g4x"
      }
    },
    {
      "cell_type": "code",
      "source": [
        "r = np.array([1,2,3,4,5], dtype='i4')\n",
        "print(r)\n",
        "print(r.dtype)"
      ],
      "metadata": {
        "colab": {
          "base_uri": "https://localhost:8080/"
        },
        "id": "te5iDzkx2tfg",
        "outputId": "f244bf7c-e2ed-4715-f889-6641a6e08720"
      },
      "execution_count": null,
      "outputs": [
        {
          "output_type": "stream",
          "name": "stdout",
          "text": [
            "[1 2 3 4 5]\n",
            "int32\n"
          ]
        }
      ]
    },
    {
      "cell_type": "markdown",
      "source": [
        "**ValueError** is raised when the type of passed argument to a function  is unexpected or incorrect."
      ],
      "metadata": {
        "id": "lVCnXyqC2487"
      }
    },
    {
      "cell_type": "markdown",
      "source": [
        "The best way to chaging the data type of an exiting array it to make a copy of the array with the **astype()** method.\n",
        "\n",
        "astype() function creates a copy of the array, and allows us to specify the data type as a parameter.\n"
      ],
      "metadata": {
        "id": "Boy-6h_y3GV5"
      }
    },
    {
      "cell_type": "code",
      "source": [
        "s = np.array([1.1,2.1,3.1])\n",
        "xs = s.astype('i')\n",
        "\n",
        "print(xs)\n",
        "print(xs.dtype)"
      ],
      "metadata": {
        "colab": {
          "base_uri": "https://localhost:8080/"
        },
        "id": "vCf5IFC53bm5",
        "outputId": "650c65ba-0f1e-42e7-fa10-efffad0a57b2"
      },
      "execution_count": null,
      "outputs": [
        {
          "output_type": "stream",
          "name": "stdout",
          "text": [
            "[1 2 3]\n",
            "int32\n"
          ]
        }
      ]
    },
    {
      "cell_type": "code",
      "source": [
        "t = np.array([1,0,3])\n",
        "xt = t.astype(bool)\n",
        "\n",
        "print(t)\n",
        "print(xt)"
      ],
      "metadata": {
        "colab": {
          "base_uri": "https://localhost:8080/"
        },
        "id": "5XFi3aWr3xoK",
        "outputId": "51d71146-a22a-4f18-dd0d-7fa196ba36d3"
      },
      "execution_count": null,
      "outputs": [
        {
          "output_type": "stream",
          "name": "stdout",
          "text": [
            "[1 0 3]\n",
            "[ True False  True]\n"
          ]
        }
      ]
    },
    {
      "cell_type": "markdown",
      "source": [
        "To create a copy of an array, the copy() method is used. Changes made in the copy of the array will not affect the original array. However, in view, the changes made will directly affect the original array."
      ],
      "metadata": {
        "id": "uGic9E0w4tJq"
      }
    },
    {
      "cell_type": "code",
      "source": [
        "ab = np.array([1,2,3,4,5])\n",
        "ac = ab.copy()\n",
        "ab[0] = 42\n",
        "\n",
        "print(ab)\n",
        "print(ac)"
      ],
      "metadata": {
        "colab": {
          "base_uri": "https://localhost:8080/"
        },
        "id": "01pWSwmQHr9w",
        "outputId": "04c91f61-6dcc-4eae-a6f1-f5e1d6d7b3d2"
      },
      "execution_count": null,
      "outputs": [
        {
          "output_type": "stream",
          "name": "stdout",
          "text": [
            "[42  2  3  4  5]\n",
            "[1 2 3 4 5]\n"
          ]
        }
      ]
    },
    {
      "cell_type": "code",
      "source": [
        "ad = np.array([1,2,3,4,5])\n",
        "ae = ad.view()\n",
        "ad[0] = 42\n",
        "\n",
        "print(ad)\n",
        "print(ae)"
      ],
      "metadata": {
        "colab": {
          "base_uri": "https://localhost:8080/"
        },
        "id": "3LH32bm0IAQh",
        "outputId": "5ce7a023-6e5e-4683-c6b7-d34ca41f9ac9"
      },
      "execution_count": null,
      "outputs": [
        {
          "output_type": "stream",
          "name": "stdout",
          "text": [
            "[42  2  3  4  5]\n",
            "[42  2  3  4  5]\n"
          ]
        }
      ]
    },
    {
      "cell_type": "code",
      "source": [
        "af = np.array([1,2,3,4,5])\n",
        "ag = af.view()\n",
        "ag[0] = 42\n",
        "\n",
        "print(af)\n",
        "print(ag)"
      ],
      "metadata": {
        "colab": {
          "base_uri": "https://localhost:8080/"
        },
        "id": "O-dTRXQNISKZ",
        "outputId": "c0f4b3ed-838c-454d-814f-13b5f763da12"
      },
      "execution_count": null,
      "outputs": [
        {
          "output_type": "stream",
          "name": "stdout",
          "text": [
            "[42  2  3  4  5]\n",
            "[42  2  3  4  5]\n"
          ]
        }
      ]
    },
    {
      "cell_type": "markdown",
      "source": [
        "To summarize, copies owns the data, while views does not own the data. How do we check if the array owns it's data?\n",
        "\n",
        "We ue the **base** attribute, and it returns None if the array owns the data."
      ],
      "metadata": {
        "id": "xQtQnnDtIeaz"
      }
    },
    {
      "cell_type": "code",
      "source": [
        "ah = np.array([1,2,3,4,5])\n",
        "\n",
        "ai = ah.copy()\n",
        "ak = ah.view()\n",
        "\n",
        "print(ai.base)\n",
        "print(ak.base)"
      ],
      "metadata": {
        "colab": {
          "base_uri": "https://localhost:8080/"
        },
        "id": "qAtOh_pZIww5",
        "outputId": "47fdc6a7-f178-4f26-e55d-a62e229386a9"
      },
      "execution_count": null,
      "outputs": [
        {
          "output_type": "stream",
          "name": "stdout",
          "text": [
            "None\n",
            "[1 2 3 4 5]\n"
          ]
        }
      ]
    },
    {
      "cell_type": "markdown",
      "source": [
        "The **shape** of an array is the number of elements in each dimension. It returns a tuple with each index having the number of corresponding elements."
      ],
      "metadata": {
        "id": "AWWS8NCRJJWc"
      }
    },
    {
      "cell_type": "code",
      "source": [
        "al = np.array([[1,2,3,4],[5,6,7,8]])\n",
        "print(al.shape)"
      ],
      "metadata": {
        "colab": {
          "base_uri": "https://localhost:8080/"
        },
        "id": "d00Ub3iZJVeI",
        "outputId": "db090d88-ae93-4a89-91b3-474a40ecf3ed"
      },
      "execution_count": null,
      "outputs": [
        {
          "output_type": "stream",
          "name": "stdout",
          "text": [
            "(2, 4)\n"
          ]
        }
      ]
    },
    {
      "cell_type": "code",
      "source": [
        "am = np.array([1,2,3,4,5], ndmin=5)\n",
        "\n",
        "print(am)\n",
        "print('The shape of array am is: ', am.shape)"
      ],
      "metadata": {
        "colab": {
          "base_uri": "https://localhost:8080/"
        },
        "id": "kU1xYOooJkEL",
        "outputId": "8cc9fe4a-1bc2-45f5-991d-0c7f1e141c54"
      },
      "execution_count": null,
      "outputs": [
        {
          "output_type": "stream",
          "name": "stdout",
          "text": [
            "[[[[[1 2 3 4 5]]]]]\n",
            "The shape of array am is:  (1, 1, 1, 1, 5)\n"
          ]
        }
      ]
    },
    {
      "cell_type": "markdown",
      "source": [
        "Reshaping the arrays means that we can add or remove dimensions or change number of elements in each dimension. It follows the same sequence as accessing the dimention of higher dimensional arrays. We can reshape arrays as long as the elements required for reshaping are equal in both shapes."
      ],
      "metadata": {
        "id": "fylHlToSKHYu"
      }
    },
    {
      "cell_type": "code",
      "source": [
        "an = np.array([1,2,3,4,5,6,7,8,9,10,11,12])\n",
        "ao = an.reshape(4,3)\n",
        "\n",
        "print(ao)"
      ],
      "metadata": {
        "colab": {
          "base_uri": "https://localhost:8080/"
        },
        "id": "HifYcVeyKdrd",
        "outputId": "1a135c5f-5954-4558-9cc9-bc2edb9e28cb"
      },
      "execution_count": null,
      "outputs": [
        {
          "output_type": "stream",
          "name": "stdout",
          "text": [
            "[[ 1  2  3]\n",
            " [ 4  5  6]\n",
            " [ 7  8  9]\n",
            " [10 11 12]]\n"
          ]
        }
      ]
    },
    {
      "cell_type": "code",
      "source": [
        "ap = np.array([1,2,3,4,5,6,7,8,9,10,11,12])\n",
        "aq = ap.reshape(2,2,3)\n",
        "\n",
        "print(aq)"
      ],
      "metadata": {
        "colab": {
          "base_uri": "https://localhost:8080/"
        },
        "id": "UPNVDA5oLBPt",
        "outputId": "7b4dfa65-06e2-4a22-cdb0-9345d278a7f6"
      },
      "execution_count": null,
      "outputs": [
        {
          "output_type": "stream",
          "name": "stdout",
          "text": [
            "[[[ 1  2  3]\n",
            "  [ 4  5  6]]\n",
            "\n",
            " [[ 7  8  9]\n",
            "  [10 11 12]]]\n"
          ]
        }
      ]
    },
    {
      "cell_type": "markdown",
      "source": [
        "The copy and view methods can also be used with reshaping methods."
      ],
      "metadata": {
        "id": "PjZ5a6LpLQh5"
      }
    },
    {
      "cell_type": "code",
      "source": [
        "ar = np.array([1,2,3,4,5,6,7,8,9,10,11,12])\n",
        "at = ar.copy()\n",
        "au = ar.view\n",
        "\n",
        "print(ar.reshape(3,4).base)"
      ],
      "metadata": {
        "colab": {
          "base_uri": "https://localhost:8080/"
        },
        "id": "_G6yon45LeoA",
        "outputId": "6316a832-4fbf-4c16-ed25-1aac83e21856"
      },
      "execution_count": null,
      "outputs": [
        {
          "output_type": "stream",
          "name": "stdout",
          "text": [
            "[ 1  2  3  4  5  6  7  8  9 10 11 12]\n"
          ]
        }
      ]
    },
    {
      "cell_type": "markdown",
      "source": [
        "Unknown dimensions are allowed as long as it's only one. One of the dimentions should be unspecified in the reshape method. Pass a **-1** value, and NumPy will automatically calculate the value."
      ],
      "metadata": {
        "id": "4nmph1OtLxQi"
      }
    },
    {
      "cell_type": "code",
      "source": [
        "av = np.array([1,2,3,4,5,6,7,8])\n",
        "aw = av.reshape(2,2,-1)\n",
        "\n",
        "print(aw)"
      ],
      "metadata": {
        "colab": {
          "base_uri": "https://localhost:8080/"
        },
        "id": "8pt60Ea-MIGn",
        "outputId": "dbc2906e-3735-44b6-81d1-62204a4e6c6e"
      },
      "execution_count": null,
      "outputs": [
        {
          "output_type": "stream",
          "name": "stdout",
          "text": [
            "[[[1 2]\n",
            "  [3 4]]\n",
            "\n",
            " [[5 6]\n",
            "  [7 8]]]\n"
          ]
        }
      ]
    },
    {
      "cell_type": "markdown",
      "source": [
        "Multidimensional arrays could also be converted into a 1D array called \"flattening\". **reshape(-1)** is used to do this. There are also a lot of functions used to change the shapes of arrays in numpy, but these are intermediate to advanced numpy."
      ],
      "metadata": {
        "id": "llzmss5zMWPg"
      }
    },
    {
      "cell_type": "code",
      "source": [
        "ax = np.array([[1,2,3],[4,5,6]])\n",
        "ay = ax.reshape(-1)\n",
        "print(ay)"
      ],
      "metadata": {
        "colab": {
          "base_uri": "https://localhost:8080/"
        },
        "id": "r568CbtrM12s",
        "outputId": "8038afd8-1ef5-45d3-afe1-296e803c3142"
      },
      "execution_count": null,
      "outputs": [
        {
          "output_type": "stream",
          "name": "stdout",
          "text": [
            "[1 2 3 4 5 6]\n"
          ]
        }
      ]
    },
    {
      "cell_type": "markdown",
      "source": [
        "Iterating in multidimentional arrays in numpy, the for loop can be used.  *Iterating on a n-D array will go through n-1th dimension ne by one.* To return the actual values, the scalars, we hav eto iterate the arrays in each dimension."
      ],
      "metadata": {
        "id": "sDcQCW6zNkxL"
      }
    },
    {
      "cell_type": "code",
      "source": [
        "ba = np.array([[[1,2,3],[4,5,6]],[[7,8,9],[10,11,12]]])\n",
        "for x in ba:\n",
        "  print(ba)"
      ],
      "metadata": {
        "colab": {
          "base_uri": "https://localhost:8080/"
        },
        "id": "AVfHiH2DOJLe",
        "outputId": "6a2a1a2a-c477-4f6b-d4c9-acaf846dca5a"
      },
      "execution_count": null,
      "outputs": [
        {
          "output_type": "stream",
          "name": "stdout",
          "text": [
            "[[[ 1  2  3]\n",
            "  [ 4  5  6]]\n",
            "\n",
            " [[ 7  8  9]\n",
            "  [10 11 12]]]\n",
            "[[[ 1  2  3]\n",
            "  [ 4  5  6]]\n",
            "\n",
            " [[ 7  8  9]\n",
            "  [10 11 12]]]\n"
          ]
        }
      ]
    },
    {
      "cell_type": "code",
      "source": [
        "print(ba.shape)"
      ],
      "metadata": {
        "colab": {
          "base_uri": "https://localhost:8080/"
        },
        "id": "lvzSxf--Ojuz",
        "outputId": "1458f321-6aae-4b82-a5ba-3dbd7529128f"
      },
      "execution_count": null,
      "outputs": [
        {
          "output_type": "stream",
          "name": "stdout",
          "text": [
            "(2, 2, 3)\n"
          ]
        }
      ]
    },
    {
      "cell_type": "code",
      "source": [
        "for x in ba:\n",
        "  for y in x:\n",
        "    for z in y:\n",
        "      print(z)"
      ],
      "metadata": {
        "colab": {
          "base_uri": "https://localhost:8080/"
        },
        "id": "QbXB3cpzOgdq",
        "outputId": "24c45d0c-e941-48a9-9612-0bd13e3fa2df"
      },
      "execution_count": null,
      "outputs": [
        {
          "output_type": "stream",
          "name": "stdout",
          "text": [
            "1\n",
            "2\n",
            "3\n",
            "4\n",
            "5\n",
            "6\n",
            "7\n",
            "8\n",
            "9\n",
            "10\n",
            "11\n",
            "12\n"
          ]
        }
      ]
    },
    {
      "cell_type": "markdown",
      "source": [
        "In high dimesional arrays, for loops can become difficult to write, and because of that we use the **nditer()** method. It iterates on each scalar element."
      ],
      "metadata": {
        "id": "_Nb6XWJyOuZQ"
      }
    },
    {
      "cell_type": "code",
      "source": [
        "bc = np.array([[[1, 2], [3, 4]], [[5, 6], [7, 8]]])\n",
        "\n",
        "for x in np.nditer(bc):\n",
        "  print(x)"
      ],
      "metadata": {
        "colab": {
          "base_uri": "https://localhost:8080/"
        },
        "id": "w38tonQHPDp2",
        "outputId": "11866477-cbfe-4311-b334-bd29d1699ead"
      },
      "execution_count": null,
      "outputs": [
        {
          "output_type": "stream",
          "name": "stdout",
          "text": [
            "1\n",
            "2\n",
            "3\n",
            "4\n",
            "5\n",
            "6\n",
            "7\n",
            "8\n"
          ]
        }
      ]
    },
    {
      "cell_type": "markdown",
      "source": [
        "Additional aguments could be added into the nditer() method, and we can use **op_dtypes** to pass the expected datatype to change the data type wih iterating. Since numpy does not change the data type of the element in-place(where the element is an array) so it needs some other space to perform this action, that extra space is called buffer, and in order to enable it in nditer() we pass **flags=['buffered']**."
      ],
      "metadata": {
        "id": "6K53bWGiSyyW"
      }
    },
    {
      "cell_type": "code",
      "source": [
        "bd = np.array([[1, 2, 3, 4], [5, 6, 7, 8]]) "
      ],
      "metadata": {
        "id": "aqDV1B5xZi8M"
      },
      "execution_count": null,
      "outputs": []
    },
    {
      "cell_type": "code",
      "source": [
        "for x in np.nditer(bd, flags=['buffered'], op_dtypes=['S']):\n",
        "  print(x)"
      ],
      "metadata": {
        "colab": {
          "base_uri": "https://localhost:8080/"
        },
        "id": "TlNtC3seTaZv",
        "outputId": "15781fee-7df6-48ee-d9e1-4b79e1e859d7"
      },
      "execution_count": null,
      "outputs": [
        {
          "output_type": "stream",
          "name": "stdout",
          "text": [
            "b'1'\n",
            "b'2'\n",
            "b'3'\n",
            "b'4'\n",
            "b'5'\n",
            "b'6'\n",
            "b'7'\n",
            "b'8'\n"
          ]
        }
      ]
    },
    {
      "cell_type": "markdown",
      "source": [
        "nditer() can also be iterated with different step size, and it could be referenced as a parameter and an array index reference"
      ],
      "metadata": {
        "id": "bXj9Wms1ZQ4T"
      }
    },
    {
      "cell_type": "code",
      "source": [
        "for x in np.nditer(bd[:,::2]):\n",
        "  print(x)"
      ],
      "metadata": {
        "colab": {
          "base_uri": "https://localhost:8080/"
        },
        "id": "zP1dNEIIZP9X",
        "outputId": "0e60aa14-2b01-414a-bcbb-8aad8523c509"
      },
      "execution_count": null,
      "outputs": [
        {
          "output_type": "stream",
          "name": "stdout",
          "text": [
            "1\n",
            "3\n",
            "5\n",
            "7\n"
          ]
        }
      ]
    },
    {
      "cell_type": "markdown",
      "source": [
        "**ndenumerate()** is mentioning sequence number of somethings one by one. Sometimes, we require corresponding index of the element while iterating, and the ndenumerate() method can be used for those use cases."
      ],
      "metadata": {
        "id": "YiDxljwZZ2el"
      }
    },
    {
      "cell_type": "code",
      "source": [
        "for idx, x in np.ndenumerate(bd):\n",
        "  print(idx,x)"
      ],
      "metadata": {
        "colab": {
          "base_uri": "https://localhost:8080/"
        },
        "id": "K45QIfwYaJ9Q",
        "outputId": "b3d3df83-b556-4ca7-f8ee-82d90bb2c1f2"
      },
      "execution_count": null,
      "outputs": [
        {
          "output_type": "stream",
          "name": "stdout",
          "text": [
            "(0, 0) 1\n",
            "(0, 1) 2\n",
            "(0, 2) 3\n",
            "(0, 3) 4\n",
            "(1, 0) 5\n",
            "(1, 1) 6\n",
            "(1, 2) 7\n",
            "(1, 3) 8\n"
          ]
        }
      ]
    },
    {
      "cell_type": "markdown",
      "source": [
        "Putting the contents of two or more arrays in a single array is called joining. In SQL, tables are joined based on a key, whereas in numpy we join arrays by axes. We pass a seuence of arrays that we want to join t the **concantenate()** function, along wih the axis. If axis is not explicitly passed, it is taken as 0."
      ],
      "metadata": {
        "id": "USM5Mvcjad37"
      }
    },
    {
      "cell_type": "code",
      "source": [
        "be = np.array([1,2,3])\n",
        "bf = np.array([4,5,6])  \n",
        "bg = np.array([[1,2],[3,4]]) \n",
        "bh = np.array([[5,6,],[7,8]])"
      ],
      "metadata": {
        "id": "gAiK_UKRal39"
      },
      "execution_count": null,
      "outputs": []
    },
    {
      "cell_type": "code",
      "source": [
        "bi = np.concatenate((be,bf))\n",
        "print(bi)"
      ],
      "metadata": {
        "colab": {
          "base_uri": "https://localhost:8080/"
        },
        "id": "NopUJ8UAbPrr",
        "outputId": "6952d53e-5409-4929-ec95-4b64e6f64c63"
      },
      "execution_count": null,
      "outputs": [
        {
          "output_type": "stream",
          "name": "stdout",
          "text": [
            "[1 2 3 4 5 6]\n"
          ]
        }
      ]
    },
    {
      "cell_type": "markdown",
      "source": [
        "Axis could also be passed as an argument in concatenate() function.\n",
        "\n",
        "axis = 0 is vertical concatenation, while axis=1 is horizontal concatenation"
      ],
      "metadata": {
        "id": "N4VPo1CWboWO"
      }
    },
    {
      "cell_type": "code",
      "source": [
        "bk = np.concatenate((bg,bh), axis=1) \n",
        "print(bk)"
      ],
      "metadata": {
        "colab": {
          "base_uri": "https://localhost:8080/"
        },
        "id": "sSjWAk4jb3Ip",
        "outputId": "7773d17c-6520-4282-d08d-d621890c8538"
      },
      "execution_count": null,
      "outputs": [
        {
          "output_type": "stream",
          "name": "stdout",
          "text": [
            "[[1 2 5 6]\n",
            " [3 4 7 8]]\n"
          ]
        }
      ]
    },
    {
      "cell_type": "markdown",
      "source": [
        "**Stacking** is similar to concatenation, the only difference is that stacking is done along a new axis. We can concatenato two 1D arrays along the second axis which would result in putting them one over the other, ie. stacking. We pass a sequence of arrays that we want to koin to the stack() method along with the axis. If axis is not explicitly passed it is taken as 0."
      ],
      "metadata": {
        "id": "lTr9Ps-Hcbu-"
      }
    },
    {
      "cell_type": "code",
      "source": [
        "bl = np.stack((be,bf), axis=1)\n",
        "print(bl)"
      ],
      "metadata": {
        "colab": {
          "base_uri": "https://localhost:8080/"
        },
        "id": "tzNLGMxNc1Wn",
        "outputId": "1b033b3a-e950-468c-dbe7-b6c2c37cacc0"
      },
      "execution_count": null,
      "outputs": [
        {
          "output_type": "stream",
          "name": "stdout",
          "text": [
            "[[1 4]\n",
            " [2 5]\n",
            " [3 6]]\n"
          ]
        }
      ]
    },
    {
      "cell_type": "markdown",
      "source": [
        "**hstack()** is a helper function used to stack along rows."
      ],
      "metadata": {
        "id": "VPnUL1oadHde"
      }
    },
    {
      "cell_type": "code",
      "source": [
        "bm = np.hstack((be,bf))\n",
        "print(bm)"
      ],
      "metadata": {
        "colab": {
          "base_uri": "https://localhost:8080/"
        },
        "id": "-R8m9bgBdNOs",
        "outputId": "3b6f2e27-c58a-439a-a608-5c5e7e98e51e"
      },
      "execution_count": null,
      "outputs": [
        {
          "output_type": "stream",
          "name": "stdout",
          "text": [
            "[1 2 3 4 5 6]\n"
          ]
        }
      ]
    },
    {
      "cell_type": "markdown",
      "source": [
        "**vstack()** is another helper function to stack along columns"
      ],
      "metadata": {
        "id": "9s2L4BDAdbLf"
      }
    },
    {
      "cell_type": "code",
      "source": [
        "bn = np.vstack((be,bf))\n",
        "print(bn)"
      ],
      "metadata": {
        "colab": {
          "base_uri": "https://localhost:8080/"
        },
        "id": "6EQD9nJAdU4m",
        "outputId": "e8fed442-9826-4bc4-8685-7b97290051c9"
      },
      "execution_count": null,
      "outputs": [
        {
          "output_type": "stream",
          "name": "stdout",
          "text": [
            "[[1 2 3]\n",
            " [4 5 6]]\n"
          ]
        }
      ]
    },
    {
      "cell_type": "markdown",
      "source": [
        "**dstack()** is a helper function used to stack along heigh, which is similar to depth."
      ],
      "metadata": {
        "id": "WBmJhi5PdmjT"
      }
    },
    {
      "cell_type": "code",
      "source": [
        "bo = np.dstack((be,bf))\n",
        "print(bo)"
      ],
      "metadata": {
        "colab": {
          "base_uri": "https://localhost:8080/"
        },
        "id": "bJBZrfzYdtgu",
        "outputId": "d33247b1-c518-4e45-ebb4-4728d1bd3dad"
      },
      "execution_count": null,
      "outputs": [
        {
          "output_type": "stream",
          "name": "stdout",
          "text": [
            "[[[1 4]\n",
            "  [2 5]\n",
            "  [3 6]]]\n"
          ]
        }
      ]
    },
    {
      "cell_type": "markdown",
      "source": [
        "The reverse operation of Joining is **Splitting**. Splitting breaks one array into multiple. We use **array_split()** for splitting arrays, we pass it the *array we want to split* and the *number of splits*. Method split() is also available but generally avoided because it does not adjest to the lements when the elements are less in source array for splitting like in example above, array_split() worked properly but split() would fail."
      ],
      "metadata": {
        "id": "72k7XRm0eJHu"
      }
    },
    {
      "cell_type": "code",
      "source": [
        "bp = np.array([1,2,3,4,5,6])"
      ],
      "metadata": {
        "id": "CgDh9R_QefQN"
      },
      "execution_count": null,
      "outputs": []
    },
    {
      "cell_type": "code",
      "source": [
        "bq = np.array_split(bp,3)\n",
        "print(bq)"
      ],
      "metadata": {
        "colab": {
          "base_uri": "https://localhost:8080/"
        },
        "id": "7mPU-Caae2gg",
        "outputId": "b7a6316e-69e5-4f69-fac4-b78a0818f917"
      },
      "execution_count": null,
      "outputs": [
        {
          "output_type": "stream",
          "name": "stdout",
          "text": [
            "[array([1, 2]), array([3, 4]), array([5, 6])]\n"
          ]
        }
      ]
    },
    {
      "cell_type": "markdown",
      "source": [
        "IF the array has less elements than required, it will adhest from the end accordingly."
      ],
      "metadata": {
        "id": "j2mTEnoTfMqA"
      }
    },
    {
      "cell_type": "code",
      "source": [
        "br = np.array_split(bp, 4)\n",
        "print(br)"
      ],
      "metadata": {
        "colab": {
          "base_uri": "https://localhost:8080/"
        },
        "id": "dkW98zRZfR_u",
        "outputId": "24d6b1c4-5fd3-4556-c7c4-bb9c6d4f4bc8"
      },
      "execution_count": null,
      "outputs": [
        {
          "output_type": "stream",
          "name": "stdout",
          "text": [
            "[array([1, 2]), array([3, 4]), array([5]), array([6])]\n"
          ]
        }
      ]
    },
    {
      "cell_type": "code",
      "source": [
        "bu = np.array([[1,2,3],[4,5,6],[7,8,9],[10,11,12],[13,14,15],[16,17,18]])\n",
        "bx = np.array_split(bu,3,axis=1)\n",
        "print(bx)"
      ],
      "metadata": {
        "colab": {
          "base_uri": "https://localhost:8080/"
        },
        "id": "ICrbL3rrWiPp",
        "outputId": "729e4a96-c36f-422c-9f72-f00fee7246bf"
      },
      "execution_count": 6,
      "outputs": [
        {
          "output_type": "stream",
          "name": "stdout",
          "text": [
            "[array([[ 1],\n",
            "       [ 4],\n",
            "       [ 7],\n",
            "       [10],\n",
            "       [13],\n",
            "       [16]]), array([[ 2],\n",
            "       [ 5],\n",
            "       [ 8],\n",
            "       [11],\n",
            "       [14],\n",
            "       [17]]), array([[ 3],\n",
            "       [ 6],\n",
            "       [ 9],\n",
            "       [12],\n",
            "       [15],\n",
            "       [18]])]\n"
          ]
        }
      ]
    },
    {
      "cell_type": "markdown",
      "source": [
        "The equivalent stak operations is also avaible as split operations, namely, **hsplit()** and **vsplit()**"
      ],
      "metadata": {
        "id": "I1vn0PcJWVM4"
      }
    },
    {
      "cell_type": "code",
      "source": [
        "by = np.array([[1, 2, 3], [4, 5, 6], [7, 8, 9], [10, 11, 12], [13, 14, 15], [16, 17, 18]])\n",
        "bz = np.hsplit(by,3)\n",
        "print(bz)"
      ],
      "metadata": {
        "colab": {
          "base_uri": "https://localhost:8080/"
        },
        "id": "fHf9WmtQWU9m",
        "outputId": "effcec66-24b6-4772-cf7d-f9e4d04872ea"
      },
      "execution_count": 8,
      "outputs": [
        {
          "output_type": "stream",
          "name": "stdout",
          "text": [
            "[array([[ 1],\n",
            "       [ 4],\n",
            "       [ 7],\n",
            "       [10],\n",
            "       [13],\n",
            "       [16]]), array([[ 2],\n",
            "       [ 5],\n",
            "       [ 8],\n",
            "       [11],\n",
            "       [14],\n",
            "       [17]]), array([[ 3],\n",
            "       [ 6],\n",
            "       [ 9],\n",
            "       [12],\n",
            "       [15],\n",
            "       [18]])]\n"
          ]
        }
      ]
    },
    {
      "cell_type": "markdown",
      "source": [
        "To seach through arrays for a specific value, the **where()** method is used. The result is a tuple of indexes where the match is present."
      ],
      "metadata": {
        "id": "VeK3TAqHXzFd"
      }
    },
    {
      "cell_type": "code",
      "source": [
        "ca = np.array([1,2,3,4,5,4,4])\n",
        "cb = np.where(ca==4)\n",
        "print(cb)"
      ],
      "metadata": {
        "colab": {
          "base_uri": "https://localhost:8080/"
        },
        "id": "yFngbe8CYB9u",
        "outputId": "3d25171b-9888-49b9-c5c6-7308380bcdc1"
      },
      "execution_count": 9,
      "outputs": [
        {
          "output_type": "stream",
          "name": "stdout",
          "text": [
            "(array([3, 5, 6]),)\n"
          ]
        }
      ]
    },
    {
      "cell_type": "code",
      "source": [
        "#find the indexes where the values are even\n",
        "cc = np.array([1,2,3,4,5,6,7,8])\n",
        "cd = np.where(cc%2 == 0)\n",
        "cf = np.where(cc%2 == 1)\n",
        "print(cd)\n",
        "print(cf)"
      ],
      "metadata": {
        "colab": {
          "base_uri": "https://localhost:8080/"
        },
        "id": "cqPZhFjsYMx3",
        "outputId": "b66d8912-426a-4d03-9442-601a114f1f0d"
      },
      "execution_count": 12,
      "outputs": [
        {
          "output_type": "stream",
          "name": "stdout",
          "text": [
            "(array([1, 3, 5, 7]),)\n",
            "(array([0, 2, 4, 6]),)\n"
          ]
        }
      ]
    },
    {
      "cell_type": "markdown",
      "source": [
        "To perform a binary search in an array, the **searchsorted()** method is used. It returns the index where the specified value would be inserted to maintain the search order. It is assumed to be used in *sorted arrays*."
      ],
      "metadata": {
        "id": "CjjPcDQXYm3J"
      }
    },
    {
      "cell_type": "code",
      "source": [
        "ch = np.array([6,7,8,9])\n",
        "cg = np.searchsorted(ch,7)\n",
        "print(cg)"
      ],
      "metadata": {
        "colab": {
          "base_uri": "https://localhost:8080/"
        },
        "id": "Oczq6kYrY7fr",
        "outputId": "f601eb54-462b-4c69-db14-1fdbd740c975"
      },
      "execution_count": 14,
      "outputs": [
        {
          "output_type": "stream",
          "name": "stdout",
          "text": [
            "1\n"
          ]
        }
      ]
    },
    {
      "cell_type": "markdown",
      "source": [
        "The default searching direction of the searchsorted() method is from the left side, but we can give **side='right'** parameter so that it will return the right most index instead."
      ],
      "metadata": {
        "id": "K2fCGufzZT-i"
      }
    },
    {
      "cell_type": "code",
      "source": [
        "ci = np.array([6,7,8,9])\n",
        "ck = np.searchsorted(ci,7,side='right')\n",
        "print(ck)"
      ],
      "metadata": {
        "colab": {
          "base_uri": "https://localhost:8080/"
        },
        "id": "YgUU2sXcZhvg",
        "outputId": "243f5dc3-e447-4ac6-937d-0b529bc008bf"
      },
      "execution_count": 15,
      "outputs": [
        {
          "output_type": "stream",
          "name": "stdout",
          "text": [
            "2\n"
          ]
        }
      ]
    },
    {
      "cell_type": "markdown",
      "source": [
        "Multiple values could also be used here, but instead of searching a value, we pass a parameter instead."
      ],
      "metadata": {
        "id": "AgaVH1KcZzIF"
      }
    },
    {
      "cell_type": "code",
      "source": [
        "cl = np.array([1,3,5,7]) \n",
        "cm = np.searchsorted(cl,[2,4,6])\n",
        "print(cm)"
      ],
      "metadata": {
        "colab": {
          "base_uri": "https://localhost:8080/"
        },
        "id": "8otdsgmrZ8zN",
        "outputId": "6279a4cf-5763-4c42-a871-099164db7a3b"
      },
      "execution_count": 19,
      "outputs": [
        {
          "output_type": "stream",
          "name": "stdout",
          "text": [
            "[1 2 3]\n"
          ]
        }
      ]
    },
    {
      "cell_type": "markdown",
      "source": [
        "**Sorting** means putting elements in an ordered sequence. An *ordered sequence* is any sequence that has an order corresponding to elements, like numeric or alphabetical, ascending or descending. NumPy ndarray object can be sorted using the **sort()** method. This method returns a COPY of an array, leaving the orginal array unchanged."
      ],
      "metadata": {
        "id": "W7hSqRCBaizn"
      }
    },
    {
      "cell_type": "code",
      "source": [
        "cp = np.array([3,2,0,1])\n",
        "print(np.sort(cp))"
      ],
      "metadata": {
        "colab": {
          "base_uri": "https://localhost:8080/"
        },
        "id": "gvmB5zpza7bj",
        "outputId": "02daa375-e9f6-4c29-c65a-751b5205ac82"
      },
      "execution_count": 22,
      "outputs": [
        {
          "output_type": "stream",
          "name": "stdout",
          "text": [
            "[0 1 2 3]\n"
          ]
        }
      ]
    },
    {
      "cell_type": "code",
      "source": [
        "cq = np.array(['banana','cherry','apple'])\n",
        "print(np.sort(cq))"
      ],
      "metadata": {
        "colab": {
          "base_uri": "https://localhost:8080/"
        },
        "id": "t6Nz2ef8bQdn",
        "outputId": "d8f198f2-3d11-46a6-838c-f8aceb139004"
      },
      "execution_count": 23,
      "outputs": [
        {
          "output_type": "stream",
          "name": "stdout",
          "text": [
            "['apple' 'banana' 'cherry']\n"
          ]
        }
      ]
    },
    {
      "cell_type": "code",
      "source": [
        "ct = np.array([True,False,True])\n",
        "print(np.sort(ct))"
      ],
      "metadata": {
        "colab": {
          "base_uri": "https://localhost:8080/"
        },
        "id": "m8_Af-d9bbJg",
        "outputId": "75de60fc-e936-490a-9a0c-a44932b65a39"
      },
      "execution_count": 24,
      "outputs": [
        {
          "output_type": "stream",
          "name": "stdout",
          "text": [
            "[False  True  True]\n"
          ]
        }
      ]
    },
    {
      "cell_type": "code",
      "source": [
        "cv = np.array([[3,2,4],[5,0,1]])\n",
        "print(np.sort(cv))"
      ],
      "metadata": {
        "colab": {
          "base_uri": "https://localhost:8080/"
        },
        "id": "yJ4_ASNLbmXR",
        "outputId": "5320b32a-b097-4af8-dae3-b5baa872888e"
      },
      "execution_count": 25,
      "outputs": [
        {
          "output_type": "stream",
          "name": "stdout",
          "text": [
            "[[2 3 4]\n",
            " [0 1 5]]\n"
          ]
        }
      ]
    },
    {
      "cell_type": "markdown",
      "source": [
        "Filtering an array on NumPy is done using a boolean index list. A *boolean index list* is a list of booleans corresponding to indexes in the array. The values tagged as True will be contained while values tagged as False will be excluded in the filtered array. The common use of this is to create a filter array based on conditions."
      ],
      "metadata": {
        "id": "yPSeAJOplk71"
      }
    },
    {
      "cell_type": "code",
      "source": [
        "cw = np.array([41,42,43,44])\n",
        "cx = [True,False,True,False]\n",
        "cy = cw[cx]\n",
        "print(cy)"
      ],
      "metadata": {
        "colab": {
          "base_uri": "https://localhost:8080/"
        },
        "id": "f2aEQu-Ol96p",
        "outputId": "40984300-3b42-4e74-f080-69486c915845"
      },
      "execution_count": 26,
      "outputs": [
        {
          "output_type": "stream",
          "name": "stdout",
          "text": [
            "[41 43]\n"
          ]
        }
      ]
    },
    {
      "cell_type": "code",
      "source": [
        "da = np.array([41,42,43,44])\n",
        "filter_da = []\n",
        "\n",
        "for element in da:\n",
        "  if element > 42:\n",
        "    filter_da.append(True)\n",
        "  else:\n",
        "    filter_da.append(False)\n",
        "\n",
        "db = da[filter_da]\n",
        "print(filter_da)\n",
        "print(db)"
      ],
      "metadata": {
        "colab": {
          "base_uri": "https://localhost:8080/"
        },
        "id": "wNoH1n5ImSaY",
        "outputId": "78f38565-931c-4f45-f8b9-8d74364d69fa"
      },
      "execution_count": 27,
      "outputs": [
        {
          "output_type": "stream",
          "name": "stdout",
          "text": [
            "[False, False, True, True]\n",
            "[43 44]\n"
          ]
        }
      ]
    },
    {
      "cell_type": "markdown",
      "source": [
        "Direct substitution is also a great way of solving a common task in NumPy. We can directly substitute the array instead of the iterable variable in our conditon and it will work just as we expect it to."
      ],
      "metadata": {
        "id": "SygDG6vQmvkS"
      }
    },
    {
      "cell_type": "code",
      "source": [
        "dc = np.array([41,42,43,44])\n",
        "dd = dc>42\n",
        "de = dc[dd]\n",
        "\n",
        "print(dd)\n",
        "print(de)"
      ],
      "metadata": {
        "colab": {
          "base_uri": "https://localhost:8080/"
        },
        "id": "vYezesyZm_Cz",
        "outputId": "1a2ae33e-e0d9-4c9c-dfb9-06f25fc96f83"
      },
      "execution_count": 29,
      "outputs": [
        {
          "output_type": "stream",
          "name": "stdout",
          "text": [
            "[False False  True  True]\n",
            "[43 44]\n"
          ]
        }
      ]
    }
  ]
}